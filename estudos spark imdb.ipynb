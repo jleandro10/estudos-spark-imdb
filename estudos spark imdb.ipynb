{
 "cells": [
  {
   "cell_type": "markdown",
   "metadata": {},
   "source": [
    "# Estudos Spark"
   ]
  },
  {
   "cell_type": "code",
   "execution_count": 35,
   "metadata": {},
   "outputs": [],
   "source": [
    "# inicia o findspark\n",
    "import findspark\n",
    "findspark.init()"
   ]
  },
  {
   "cell_type": "code",
   "execution_count": 36,
   "metadata": {},
   "outputs": [],
   "source": [
    "# importa bibliotecas para lidar com o spark\n",
    "from pyspark.sql import SparkSession\n",
    "import pyspark.sql.functions as f\n",
    "import pyspark.sql.types as t"
   ]
  },
  {
   "cell_type": "code",
   "execution_count": 37,
   "metadata": {},
   "outputs": [],
   "source": [
    "# cria o objeto spark\n",
    "spark = SparkSession.builder.getOrCreate()"
   ]
  },
  {
   "cell_type": "markdown",
   "metadata": {},
   "source": [
    "## Leitura dos Dados"
   ]
  },
  {
   "cell_type": "code",
   "execution_count": 38,
   "metadata": {},
   "outputs": [],
   "source": [
    "df_titles = spark.read.csv('title_basics.tsv', header=True, sep='\\t')\n",
    "df_ratings = spark.read.csv('title_ratings.tsv', header=True, sep='\\t')"
   ]
  },
  {
   "cell_type": "markdown",
   "metadata": {},
   "source": [
    "# Perguntas"
   ]
  },
  {
   "cell_type": "markdown",
   "metadata": {},
   "source": [
    "### Quantos filmes foram lançados em 2015, incluindo os da televisão?"
   ]
  },
  {
   "cell_type": "code",
   "execution_count": 14,
   "metadata": {},
   "outputs": [],
   "source": [
    "df = (\n",
    "    df_titles.select('titleType', 'startYear')\n",
    "    .filter((f.col('titleType').contains('movie')) & (f.col('startYear') == 2015))\n",
    ")"
   ]
  },
  {
   "cell_type": "code",
   "execution_count": 7,
   "metadata": {},
   "outputs": [
    {
     "data": {
      "text/plain": [
       "16429"
      ]
     },
     "execution_count": 7,
     "metadata": {},
     "output_type": "execute_result"
    }
   ],
   "source": [
    "df_titles.filter('titleType in (\"movie\")').filter('startYear = \"2015\"').count()"
   ]
  },
  {
   "cell_type": "code",
   "execution_count": 45,
   "metadata": {},
   "outputs": [
    {
     "data": {
      "text/plain": [
       "19987"
      ]
     },
     "execution_count": 45,
     "metadata": {},
     "output_type": "execute_result"
    }
   ],
   "source": [
    "df_titles.filter('titleType in (\"movie\", \"tvMovie\")').filter('startYear = \"2015\"').count()"
   ]
  },
  {
   "cell_type": "markdown",
   "metadata": {},
   "source": [
    "### Qual o gênero de filmes mais frequente?"
   ]
  },
  {
   "cell_type": "code",
   "execution_count": 16,
   "metadata": {},
   "outputs": [],
   "source": [
    "generos = df_titles.select('genres')\n",
    "lista_generos = generos.withColumn('genres', f.split('genres', ','))\n",
    "generos_por_linha = lista_generos.withColumn('genres', f.explode(f.col('genres')))"
   ]
  },
  {
   "cell_type": "code",
   "execution_count": 17,
   "metadata": {},
   "outputs": [
    {
     "name": "stdout",
     "output_type": "stream",
     "text": [
      "+-----------+-------+\n",
      "|     genres|  count|\n",
      "+-----------+-------+\n",
      "|      Drama|2247995|\n",
      "|     Comedy|1653725|\n",
      "|      Short|1021850|\n",
      "|  Talk-Show| 900198|\n",
      "|Documentary| 764885|\n",
      "+-----------+-------+\n",
      "only showing top 5 rows\n",
      "\n"
     ]
    }
   ],
   "source": [
    "freq = generos_por_linha.groupBy('genres').count()\n",
    "freq.orderBy(f.desc('count')).show(5)"
   ]
  },
  {
   "cell_type": "markdown",
   "metadata": {},
   "source": [
    "### Qual o gênero com a melhor nota média de títulos?"
   ]
  },
  {
   "cell_type": "code",
   "execution_count": 6,
   "metadata": {},
   "outputs": [],
   "source": [
    "df_titles_subset = df_titles.select('tconst', 'originalTitle', 'genres')\n",
    "df_ratings_subset = df_ratings.select('tconst', 'averageRating')"
   ]
  },
  {
   "cell_type": "code",
   "execution_count": 7,
   "metadata": {},
   "outputs": [],
   "source": [
    "df_join = df_titles_subset.join(df_ratings_subset, 'tconst')"
   ]
  },
  {
   "cell_type": "code",
   "execution_count": 8,
   "metadata": {},
   "outputs": [
    {
     "name": "stdout",
     "output_type": "stream",
     "text": [
      "+---------+--------------------+---------------+-------------+\n",
      "|   tconst|       originalTitle|         genres|averageRating|\n",
      "+---------+--------------------+---------------+-------------+\n",
      "|tt0000658|Le cauchemar de F...|Animation,Short|          6.5|\n",
      "|tt0001732|The Lighthouse Ke...|    Drama,Short|          7.1|\n",
      "|tt0002253|          Home Folks|    Drama,Short|          4.0|\n",
      "|tt0002473|    The Sands of Dee|  Romance,Short|          6.5|\n",
      "|tt0002588|Zigomar contre Ni...| Crime,Thriller|          6.0|\n",
      "+---------+--------------------+---------------+-------------+\n",
      "only showing top 5 rows\n",
      "\n"
     ]
    }
   ],
   "source": [
    "df_join.show(5)"
   ]
  },
  {
   "cell_type": "code",
   "execution_count": 9,
   "metadata": {},
   "outputs": [],
   "source": [
    "# split e explode\n",
    "df_join = df_join.withColumn('genres', f.split('genres', ','))\n",
    "df_join = df_join.withColumn('genres', f.explode(f.col('genres')))"
   ]
  },
  {
   "cell_type": "code",
   "execution_count": 11,
   "metadata": {},
   "outputs": [
    {
     "data": {
      "text/html": [
       "<div>\n",
       "<style scoped>\n",
       "    .dataframe tbody tr th:only-of-type {\n",
       "        vertical-align: middle;\n",
       "    }\n",
       "\n",
       "    .dataframe tbody tr th {\n",
       "        vertical-align: top;\n",
       "    }\n",
       "\n",
       "    .dataframe thead th {\n",
       "        text-align: right;\n",
       "    }\n",
       "</style>\n",
       "<table border=\"1\" class=\"dataframe\">\n",
       "  <thead>\n",
       "    <tr style=\"text-align: right;\">\n",
       "      <th></th>\n",
       "      <th>tconst</th>\n",
       "      <th>originalTitle</th>\n",
       "      <th>genres</th>\n",
       "      <th>averageRating</th>\n",
       "    </tr>\n",
       "  </thead>\n",
       "  <tbody>\n",
       "    <tr>\n",
       "      <th>0</th>\n",
       "      <td>tt0000658</td>\n",
       "      <td>Le cauchemar de Fantoche</td>\n",
       "      <td>Animation</td>\n",
       "      <td>6.5</td>\n",
       "    </tr>\n",
       "    <tr>\n",
       "      <th>1</th>\n",
       "      <td>tt0000658</td>\n",
       "      <td>Le cauchemar de Fantoche</td>\n",
       "      <td>Short</td>\n",
       "      <td>6.5</td>\n",
       "    </tr>\n",
       "    <tr>\n",
       "      <th>2</th>\n",
       "      <td>tt0001732</td>\n",
       "      <td>The Lighthouse Keeper</td>\n",
       "      <td>Drama</td>\n",
       "      <td>7.1</td>\n",
       "    </tr>\n",
       "    <tr>\n",
       "      <th>3</th>\n",
       "      <td>tt0001732</td>\n",
       "      <td>The Lighthouse Keeper</td>\n",
       "      <td>Short</td>\n",
       "      <td>7.1</td>\n",
       "    </tr>\n",
       "    <tr>\n",
       "      <th>4</th>\n",
       "      <td>tt0002253</td>\n",
       "      <td>Home Folks</td>\n",
       "      <td>Drama</td>\n",
       "      <td>4.0</td>\n",
       "    </tr>\n",
       "    <tr>\n",
       "      <th>...</th>\n",
       "      <td>...</td>\n",
       "      <td>...</td>\n",
       "      <td>...</td>\n",
       "      <td>...</td>\n",
       "    </tr>\n",
       "    <tr>\n",
       "      <th>2330822</th>\n",
       "      <td>tt9913584</td>\n",
       "      <td>As long as you're happy</td>\n",
       "      <td>Animation</td>\n",
       "      <td>8.3</td>\n",
       "    </tr>\n",
       "    <tr>\n",
       "      <th>2330823</th>\n",
       "      <td>tt9913584</td>\n",
       "      <td>As long as you're happy</td>\n",
       "      <td>Comedy</td>\n",
       "      <td>8.3</td>\n",
       "    </tr>\n",
       "    <tr>\n",
       "      <th>2330824</th>\n",
       "      <td>tt9913584</td>\n",
       "      <td>As long as you're happy</td>\n",
       "      <td>Fantasy</td>\n",
       "      <td>8.3</td>\n",
       "    </tr>\n",
       "    <tr>\n",
       "      <th>2330825</th>\n",
       "      <td>tt9916038</td>\n",
       "      <td>Eco</td>\n",
       "      <td>Drama</td>\n",
       "      <td>5.6</td>\n",
       "    </tr>\n",
       "    <tr>\n",
       "      <th>2330826</th>\n",
       "      <td>tt9916038</td>\n",
       "      <td>Eco</td>\n",
       "      <td>Short</td>\n",
       "      <td>5.6</td>\n",
       "    </tr>\n",
       "  </tbody>\n",
       "</table>\n",
       "<p>2330827 rows × 4 columns</p>\n",
       "</div>"
      ],
      "text/plain": [
       "            tconst             originalTitle     genres averageRating\n",
       "0        tt0000658  Le cauchemar de Fantoche  Animation           6.5\n",
       "1        tt0000658  Le cauchemar de Fantoche      Short           6.5\n",
       "2        tt0001732     The Lighthouse Keeper      Drama           7.1\n",
       "3        tt0001732     The Lighthouse Keeper      Short           7.1\n",
       "4        tt0002253                Home Folks      Drama           4.0\n",
       "...            ...                       ...        ...           ...\n",
       "2330822  tt9913584   As long as you're happy  Animation           8.3\n",
       "2330823  tt9913584   As long as you're happy     Comedy           8.3\n",
       "2330824  tt9913584   As long as you're happy    Fantasy           8.3\n",
       "2330825  tt9916038                       Eco      Drama           5.6\n",
       "2330826  tt9916038                       Eco      Short           5.6\n",
       "\n",
       "[2330827 rows x 4 columns]"
      ]
     },
     "execution_count": 11,
     "metadata": {},
     "output_type": "execute_result"
    }
   ],
   "source": [
    "df_join.toPandas()"
   ]
  },
  {
   "cell_type": "code",
   "execution_count": 15,
   "metadata": {},
   "outputs": [],
   "source": [
    "# agrupo por gênero\n",
    "df_join = df_join.groupBy('genres')"
   ]
  },
  {
   "cell_type": "code",
   "execution_count": 18,
   "metadata": {},
   "outputs": [
    {
     "data": {
      "text/html": [
       "<div>\n",
       "<style scoped>\n",
       "    .dataframe tbody tr th:only-of-type {\n",
       "        vertical-align: middle;\n",
       "    }\n",
       "\n",
       "    .dataframe tbody tr th {\n",
       "        vertical-align: top;\n",
       "    }\n",
       "\n",
       "    .dataframe thead th {\n",
       "        text-align: right;\n",
       "    }\n",
       "</style>\n",
       "<table border=\"1\" class=\"dataframe\">\n",
       "  <thead>\n",
       "    <tr style=\"text-align: right;\">\n",
       "      <th></th>\n",
       "      <th>genres</th>\n",
       "      <th>avg(averageRating)</th>\n",
       "    </tr>\n",
       "  </thead>\n",
       "  <tbody>\n",
       "    <tr>\n",
       "      <th>0</th>\n",
       "      <td>History</td>\n",
       "      <td>7.35378</td>\n",
       "    </tr>\n",
       "  </tbody>\n",
       "</table>\n",
       "</div>"
      ],
      "text/plain": [
       "    genres  avg(averageRating)\n",
       "0  History             7.35378"
      ]
     },
     "execution_count": 18,
     "metadata": {},
     "output_type": "execute_result"
    }
   ],
   "source": [
    "# usando agg e avg nas notas\n",
    "df_join.agg(f.avg('averageRating')).orderBy(f.desc('avg(averageRating)')).limit(1).toPandas()"
   ]
  },
  {
   "cell_type": "markdown",
   "metadata": {},
   "source": [
    "### Qual o video game do gênero aventura mais bem avaliado dm 2020?"
   ]
  },
  {
   "cell_type": "code",
   "execution_count": 18,
   "metadata": {},
   "outputs": [],
   "source": [
    "df = (\n",
    "    df_titles.select('tconst', 'titleType', 'originalTitle', 'startYear', 'genres')\n",
    "    .filter((f.col('titleType') == 'videoGame') & (f.col('startYear') == 2020) & (f.col('genres').contains('Adventure')))\n",
    ")"
   ]
  },
  {
   "cell_type": "code",
   "execution_count": 20,
   "metadata": {},
   "outputs": [],
   "source": [
    "game_ratings_2020 = df.join(df_ratings, 'tconst')"
   ]
  },
  {
   "cell_type": "code",
   "execution_count": 21,
   "metadata": {},
   "outputs": [
    {
     "name": "stdout",
     "output_type": "stream",
     "text": [
      "+--------------------+-------------+\n",
      "|       originalTitle|averageRating|\n",
      "+--------------------+-------------+\n",
      "|     Half-Life: Alyx|          9.5|\n",
      "|   Ghost of Tsushima|          9.3|\n",
      "|               Omori|          9.2|\n",
      "|Ori and the Will ...|          9.1|\n",
      "|Final Fantasy VII...|          9.1|\n",
      "+--------------------+-------------+\n",
      "only showing top 5 rows\n",
      "\n"
     ]
    }
   ],
   "source": [
    "game_ratings_2020.select('originalTitle', 'averageRating').orderBy(f.desc('averageRating')).show(5)"
   ]
  },
  {
   "cell_type": "markdown",
   "metadata": {},
   "source": [
    "### Usando UDF\n",
    "### Elevar a média de notas ao quadrado e depois agregar tirando a média de todos os valores da coluna"
   ]
  },
  {
   "cell_type": "code",
   "execution_count": 22,
   "metadata": {},
   "outputs": [],
   "source": [
    "def sqr_divide(value):\n",
    "    return (value**2)/2\n",
    "\n",
    "sqr_divide_udf = f.udf(sqr_divide, t.DoubleType())"
   ]
  },
  {
   "cell_type": "code",
   "execution_count": 23,
   "metadata": {},
   "outputs": [
    {
     "name": "stdout",
     "output_type": "stream",
     "text": [
      "+------------------+\n",
      "|     averageRating|\n",
      "+------------------+\n",
      "|24.899137999842086|\n",
      "+------------------+\n",
      "\n"
     ]
    }
   ],
   "source": [
    "(\n",
    "    df_ratings\n",
    "    .withColumn('averageRating', f.col('averageRating').cast('double'))\n",
    "    .select(sqr_divide_udf('averageRating').alias('averageRating'))\n",
    "    .agg(f.mean('averageRating').alias('averageRating'))\n",
    "    .show()\n",
    ")"
   ]
  },
  {
   "cell_type": "code",
   "execution_count": null,
   "metadata": {},
   "outputs": [],
   "source": []
  }
 ],
 "metadata": {
  "kernelspec": {
   "display_name": "Python 3",
   "language": "python",
   "name": "python3"
  },
  "language_info": {
   "codemirror_mode": {
    "name": "ipython",
    "version": 3
   },
   "file_extension": ".py",
   "mimetype": "text/x-python",
   "name": "python",
   "nbconvert_exporter": "python",
   "pygments_lexer": "ipython3",
   "version": "3.7.6"
  }
 },
 "nbformat": 4,
 "nbformat_minor": 4
}
